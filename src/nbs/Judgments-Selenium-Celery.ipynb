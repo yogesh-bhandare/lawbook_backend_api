{
 "cells": [
  {
   "cell_type": "code",
   "execution_count": 1,
   "id": "ef9efd28-c932-4c29-862b-f72e8304d805",
   "metadata": {},
   "outputs": [
    {
     "name": "stdout",
     "output_type": "stream",
     "text": [
      "D:/Development_24/DJ-Celery/src/nbs home src\n",
      "D:/Resume-Projects/Lawbook/core_api/src\n"
     ]
    }
   ],
   "source": [
    "import setup\n",
    "setup.init_django('home')"
   ]
  },
  {
   "cell_type": "code",
   "execution_count": 2,
   "id": "9271c823-7d4f-4efe-ba05-4e26b644a3d5",
   "metadata": {},
   "outputs": [],
   "source": [
    "import helpers\n",
    "from judgments.tasks import scrape_judgment_url_task"
   ]
  },
  {
   "cell_type": "code",
   "execution_count": 3,
   "id": "2189ed0b-c34b-45ec-856f-4b84f266a649",
   "metadata": {},
   "outputs": [],
   "source": [
    "url = \"https://www.advocatekhoj.com/library/judgments/announcement.php\""
   ]
  },
  {
   "cell_type": "code",
   "execution_count": null,
   "id": "087cb856-9959-4c38-9071-02ae6c01dd86",
   "metadata": {},
   "outputs": [
    {
     "name": "stdout",
     "output_type": "stream",
     "text": [
      "Connecting to the scraping browser...\n",
      "Connected Navigating to https://www.advocatekhoj.com/library/judgments/announcement.php\n",
      "Navigated! Scraping page content.\n",
      "Scraping URL: https://www.advocatekhoj.com/library/judgments/announcement.php?WID=18081\n",
      "Connecting to the scraping browser...\n",
      "Connected Navigating to https://www.advocatekhoj.com/library/judgments/announcement.php?WID=18081\n",
      "Navigated! Scraping page content.\n",
      "Scraping URL: https://www.advocatekhoj.com/library/judgments/announcement.php?WID=18080\n",
      "Connecting to the scraping browser...\n",
      "Connected Navigating to https://www.advocatekhoj.com/library/judgments/announcement.php?WID=18080\n",
      "Navigated! Scraping page content.\n"
     ]
    }
   ],
   "source": [
    "scrape_judgment_url_task(url, 3)"
   ]
  },
  {
   "cell_type": "code",
   "execution_count": null,
   "id": "1bf05334-c495-499c-9ce1-c4ad847fed96",
   "metadata": {},
   "outputs": [],
   "source": []
  }
 ],
 "metadata": {
  "kernelspec": {
   "display_name": "Python 3 (ipykernel)",
   "language": "python",
   "name": "python3"
  },
  "language_info": {
   "codemirror_mode": {
    "name": "ipython",
    "version": 3
   },
   "file_extension": ".py",
   "mimetype": "text/x-python",
   "name": "python",
   "nbconvert_exporter": "python",
   "pygments_lexer": "ipython3",
   "version": "3.11.0rc2"
  }
 },
 "nbformat": 4,
 "nbformat_minor": 5
}

{
 "cells": [
  {
   "cell_type": "code",
   "execution_count": 5,
   "id": "ef9efd28-c932-4c29-862b-f72e8304d805",
   "metadata": {},
   "outputs": [],
   "source": [
    "import setup\n",
    "setup.init_django('home')"
   ]
  },
  {
   "cell_type": "code",
   "execution_count": 6,
   "id": "9271c823-7d4f-4efe-ba05-4e26b644a3d5",
   "metadata": {},
   "outputs": [],
   "source": [
    "import helpers\n",
    "from judgments.tasks import scrape_judgment_url_task"
   ]
  },
  {
   "cell_type": "code",
   "execution_count": 7,
   "id": "2189ed0b-c34b-45ec-856f-4b84f266a649",
   "metadata": {},
   "outputs": [],
   "source": [
    "url = \"https://www.advocatekhoj.com/library/judgments/announcement.php\""
   ]
  },
  {
   "cell_type": "code",
   "execution_count": 8,
   "id": "087cb856-9959-4c38-9071-02ae6c01dd86",
   "metadata": {},
   "outputs": [
    {
     "data": {
      "text/plain": [
       "<AsyncResult: c21a95dd-d77c-4a75-a1b1-8b6eabfbdd0b>"
      ]
     },
     "execution_count": 8,
     "metadata": {},
     "output_type": "execute_result"
    }
   ],
   "source": [
    "scrape_judgment_url_task.delay(url, 5)"
   ]
  },
  {
   "cell_type": "code",
   "execution_count": null,
   "id": "1bf05334-c495-499c-9ce1-c4ad847fed96",
   "metadata": {},
   "outputs": [],
   "source": []
  }
 ],
 "metadata": {
  "kernelspec": {
   "display_name": "Python 3 (ipykernel)",
   "language": "python",
   "name": "python3"
  },
  "language_info": {
   "codemirror_mode": {
    "name": "ipython",
    "version": 3
   },
   "file_extension": ".py",
   "mimetype": "text/x-python",
   "name": "python",
   "nbconvert_exporter": "python",
   "pygments_lexer": "ipython3",
   "version": "3.11.0rc2"
  }
 },
 "nbformat": 4,
 "nbformat_minor": 5
}
